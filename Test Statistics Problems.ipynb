{
 "cells": [
  {
   "cell_type": "markdown",
   "id": "c15853d6",
   "metadata": {},
   "source": [
    "A teacher claims that the mean score of students in his class is greater than 82 with a standard deviation of 20. If a sample of 81 students was selected with a mean score of 90 then check if there is enough evidence to support this claim at a 0.05 significance level."
   ]
  },
  {
   "cell_type": "code",
   "execution_count": 1,
   "id": "32504cf4",
   "metadata": {},
   "outputs": [
    {
     "name": "stdout",
     "output_type": "stream",
     "text": [
      "Z-Score: 3.5999999999999996\n",
      "Critical Z-Value: 1.6448536269514722\n",
      "P-Value: 0.00015910859015755285\n",
      "Reject the null hypothesis. There is enough evidence to support the teacher's claim.\n"
     ]
    }
   ],
   "source": [
    "import numpy as np\n",
    "import scipy.stats as stats\n",
    "\n",
    "# Given values\n",
    "population_mean = 82\n",
    "sample_mean = 90\n",
    "population_std = 20\n",
    "sample_size = 81\n",
    "alpha = 0.05\n",
    "\n",
    "# Z-test formula\n",
    "z = (sample_mean - population_mean) / (population_std / np.sqrt(sample_size))\n",
    "\n",
    "# Calculate p-value (one-tailed)\n",
    "#p_value = 1 - stats.norm.cdf(z)\n",
    "\n",
    "# Critical value for one-tailed test at 0.05 significance level\n",
    "z_critical = stats.norm.ppf(1 - alpha)\n",
    "\n",
    "print(f\"Z-Score: {z}\")\n",
    "print(f\"Critical Z-Value: {z_critical}\")\n",
    "print(f\"P-Value: {p_value}\")\n",
    "\n",
    "# Decision\n",
    "if z > z_critical:\n",
    "    print(\"Reject the null hypothesis. There is enough evidence to support the teacher's claim.\")\n",
    "else:\n",
    "    print(\"Fail to reject the null hypothesis. There is not enough evidence to support the teacher's claim.\")"
   ]
  },
  {
   "cell_type": "markdown",
   "id": "f596ebe9",
   "metadata": {},
   "source": [
    "An online medicine shop claims that the mean delivery time for medicines is less than 120 minutes with a standard deviation of 30 minutes. Is there enough evidence to support this claim at a 0.05 significance level if 49 orders were examined with a mean of 100 minutes?"
   ]
  },
  {
   "cell_type": "code",
   "execution_count": 1,
   "id": "92b51780",
   "metadata": {},
   "outputs": [
    {
     "name": "stdout",
     "output_type": "stream",
     "text": [
      "Z-Score: -4.666666666666667\n",
      "Critical Z-Value: 1.6448536269514722\n",
      "P-Value: 1.530626736531063e-06\n",
      "Reject the null hypothesis. There is enough evidence to support the claim that the mean delivery time is less than 120 minutes.\n"
     ]
    }
   ],
   "source": [
    "import numpy as np\n",
    "import scipy.stats as stats\n",
    "\n",
    "# Given values\n",
    "population_mean = 120\n",
    "sample_mean = 100\n",
    "population_std = 30\n",
    "sample_size = 49\n",
    "alpha = 0.05\n",
    "\n",
    "# Z-test formula\n",
    "z = (sample_mean - population_mean) / (population_std / np.sqrt(sample_size))\n",
    "\n",
    "# Calculate p-value (one-tailed)\n",
    "p_value = stats.norm.cdf(z)\n",
    "\n",
    "# Critical value for one-tailed test at 0.05 significance level (left-tailed)\n",
    "z_critical = stats.norm.ppf(1-alpha)\n",
    "\n",
    "print(f\"Z-Score: {z}\")\n",
    "print(f\"Critical Z-Value: {z_critical}\")\n",
    "print(f\"P-Value: {p_value}\")\n",
    "\n",
    "# Decision\n",
    "if z < z_critical:\n",
    "    print(\"Reject the null hypothesis. There is enough evidence to support the claim that the mean delivery time is less than 120 minutes.\")\n",
    "else:\n",
    "    print(\"Fail to reject the null hypothesis. There is not enough evidence to support the claim.\")\n"
   ]
  },
  {
   "cell_type": "markdown",
   "id": "1a25b583",
   "metadata": {},
   "source": [
    "Imagine a company wants to test the claim that their batteries last more than 40 hours. Using a simple random sample of 15 batteries yielded a mean of 44.9 hours, with a standard deviation of 8.9 hours. Test this claim using a significance level of 0.05."
   ]
  },
  {
   "cell_type": "code",
   "execution_count": 5,
   "id": "4a548b38",
   "metadata": {},
   "outputs": [
    {
     "name": "stdout",
     "output_type": "stream",
     "text": [
      "T-Score: 2.132316673754645\n",
      "Critical T-Value: 1.7613101357748562\n",
      "P-Value: 0.02558655622764794\n",
      "Reject the null hypothesis. There is enough evidence to support the claim that the batteries last more than 40 hours.\n"
     ]
    }
   ],
   "source": [
    "import scipy.stats as stats\n",
    "\n",
    "# Given data\n",
    "sample_mean = 44.9\n",
    "population_mean = 40\n",
    "sample_std = 8.9\n",
    "sample_size = 15\n",
    "alpha = 0.05\n",
    "\n",
    "# Degrees of freedom\n",
    "df = sample_size - 1\n",
    "\n",
    "# T-test formula\n",
    "t = (sample_mean - population_mean) / (sample_std / (sample_size ** 0.5))\n",
    "\n",
    "# Critical t-value for one-tailed test\n",
    "t_critical = stats.t.ppf(1 - alpha, df)\n",
    "\n",
    "# Calculate p-value (one-tailed)\n",
    "p_value = 1 - stats.t.cdf(t, df)\n",
    "\n",
    "print(f\"T-Score: {t}\")\n",
    "print(f\"Critical T-Value: {t_critical}\")\n",
    "print(f\"P-Value: {p_value}\")\n",
    "\n",
    "# Decision\n",
    "if t > t_critical:\n",
    "    print(\"Reject the null hypothesis. There is enough evidence to support the claim that the batteries last more than 40 hours.\")\n",
    "else:\n",
    "    print(\"Fail to reject the null hypothesis. There is not enough evidence to support the claim.\")\n"
   ]
  },
  {
   "cell_type": "code",
   "execution_count": null,
   "id": "8d29f46b",
   "metadata": {},
   "outputs": [],
   "source": []
  }
 ],
 "metadata": {
  "kernelspec": {
   "display_name": "Python 3",
   "language": "python",
   "name": "python3"
  },
  "language_info": {
   "codemirror_mode": {
    "name": "ipython",
    "version": 3
   },
   "file_extension": ".py",
   "mimetype": "text/x-python",
   "name": "python",
   "nbconvert_exporter": "python",
   "pygments_lexer": "ipython3",
   "version": "3.13.5"
  }
 },
 "nbformat": 4,
 "nbformat_minor": 5
}
