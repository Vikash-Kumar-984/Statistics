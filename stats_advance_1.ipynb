{
 "cells": [
  {
   "cell_type": "markdown",
   "id": "79f1c6a1",
   "metadata": {},
   "source": [
    "## Statistics Advance Basics"
   ]
  },
  {
   "cell_type": "code",
   "execution_count": 1,
   "id": "41cb2c37",
   "metadata": {},
   "outputs": [],
   "source": [
    "import pandas as pd\n",
    "import numpy as np\n",
    "import seaborn as sns\n",
    "\n",
    "import warnings\n",
    "warnings.filterwarnings('ignore')"
   ]
  },
  {
   "cell_type": "code",
   "execution_count": 2,
   "id": "8b6882d4",
   "metadata": {},
   "outputs": [
    {
     "data": {
      "text/plain": [
       "array([18, 14, 14, 12, 17, 14, 18, 16, 13, 15, 15, 10, 13, 12, 15, 16, 12,\n",
       "       19, 15, 11, 10, 10, 15, 12, 13, 15, 18, 17, 14, 10, 19, 14, 15, 10,\n",
       "       14, 16, 18, 10, 12, 13, 13, 14, 16, 16, 19, 11, 13, 10, 12, 18],\n",
       "      dtype=int32)"
      ]
     },
     "execution_count": 2,
     "metadata": {},
     "output_type": "execute_result"
    }
   ],
   "source": [
    "population = np.random.randint(10, 20, 50)\n",
    "population"
   ]
  },
  {
   "cell_type": "code",
   "execution_count": 3,
   "id": "ef5d17ad",
   "metadata": {},
   "outputs": [
    {
     "data": {
      "text/plain": [
       "50"
      ]
     },
     "execution_count": 3,
     "metadata": {},
     "output_type": "execute_result"
    }
   ],
   "source": [
    "len(population)"
   ]
  },
  {
   "cell_type": "code",
   "execution_count": 4,
   "id": "b0ad80cb",
   "metadata": {},
   "outputs": [
    {
     "name": "stdout",
     "output_type": "stream",
     "text": [
      "The mean of the population 14.12\n",
      "The median of the population 14.0\n",
      "The mode of the population 14\n"
     ]
    }
   ],
   "source": [
    "import statistics\n",
    "print(\"The mean of the population\", np.mean(population))\n",
    "print(\"The median of the population\", np.median(population))\n",
    "print(\"The mode of the population\", statistics.mode(population))"
   ]
  },
  {
   "cell_type": "code",
   "execution_count": 5,
   "id": "44cbc530",
   "metadata": {},
   "outputs": [],
   "source": [
    "sample1 = np.random.choice(population, 20)\n",
    "sample2 = np.random.choice(population, 20)\n",
    "sample3 = np.random.choice(population, 20)\n",
    "sample4 = np.random.choice(population, 20)"
   ]
  },
  {
   "cell_type": "code",
   "execution_count": 6,
   "id": "9271e448",
   "metadata": {},
   "outputs": [],
   "source": [
    "mean_of_samples = []\n",
    "all_samples = [sample1, sample2, sample3, sample4]\n",
    "\n",
    "for sample in all_samples:\n",
    "    mean_of_samples.append(np.mean(sample))"
   ]
  },
  {
   "cell_type": "code",
   "execution_count": 7,
   "id": "36311794",
   "metadata": {},
   "outputs": [
    {
     "data": {
      "text/plain": [
       "[np.float64(13.35), np.float64(14.0), np.float64(13.7), np.float64(13.3)]"
      ]
     },
     "execution_count": 7,
     "metadata": {},
     "output_type": "execute_result"
    }
   ],
   "source": [
    "mean_of_samples"
   ]
  },
  {
   "cell_type": "markdown",
   "id": "6b6dc381",
   "metadata": {},
   "source": [
    "# Central Limit Theorem \n",
    "\n",
    "The sample mean distribution will be approximated to normal distribution given sample size >= 30 and \n",
    "no of samples are sufficiently large enough"
   ]
  },
  {
   "cell_type": "code",
   "execution_count": 9,
   "id": "33f6ef50",
   "metadata": {},
   "outputs": [],
   "source": [
    "population = np.random.binomial(10, 0.5, 100000) #This is no of trials or experiment, it represents the of times an event is repeated\n",
    "#0.5 is probability of success\n",
    "#100000 >> will generate 100000 of random nos representing the outcome of independent trial"
   ]
  },
  {
   "cell_type": "code",
   "execution_count": 10,
   "id": "56c72c49",
   "metadata": {},
   "outputs": [
    {
     "data": {
      "text/plain": [
       "100000"
      ]
     },
     "execution_count": 10,
     "metadata": {},
     "output_type": "execute_result"
    }
   ],
   "source": [
    "len(population)"
   ]
  },
  {
   "cell_type": "code",
   "execution_count": 11,
   "id": "9623bde4",
   "metadata": {},
   "outputs": [
    {
     "data": {
      "text/plain": [
       "<Axes: ylabel='Density'>"
      ]
     },
     "execution_count": 11,
     "metadata": {},
     "output_type": "execute_result"
    },
    {
     "data": {
      "image/png": "[encoded data removed]",
      "text/plain": [
       "<Figure size 640x480 with 1 Axes>"
      ]
     },
     "metadata": {},
     "output_type": "display_data"
    }
   ],
   "source": [
    "sns.distplot(population)"
   ]
  },
  {
   "cell_type": "code",
   "execution_count": 12,
   "id": "3c69639c",
   "metadata": {},
   "outputs": [],
   "source": [
    "sample_size = int(len(population) *0.030)"
   ]
  },
  {
   "cell_type": "code",
   "execution_count": 13,
   "id": "c74ce271",
   "metadata": {},
   "outputs": [
    {
     "data": {
      "text/plain": [
       "3000"
      ]
     },
     "execution_count": 13,
     "metadata": {},
     "output_type": "execute_result"
    }
   ],
   "source": [
    "sample_size"
   ]
  },
  {
   "cell_type": "code",
   "execution_count": 14,
   "id": "93fa276d",
   "metadata": {},
   "outputs": [],
   "source": [
    "mean_of_samples = []\n",
    "\n",
    "\n",
    "for i in range(1, 1000):\n",
    "    sample = np.random.choice(population, size = sample_size)\n",
    "    mean_of_samples.append(np.mean(sample))"
   ]
  },
  {
   "cell_type": "code",
   "execution_count": 15,
   "id": "a514740c",
   "metadata": {},
   "outputs": [
    {
     "data": {
      "text/plain": [
       "999"
      ]
     },
     "execution_count": 15,
     "metadata": {},
     "output_type": "execute_result"
    }
   ],
   "source": [
    "len(mean_of_samples)"
   ]
  },
  {
   "cell_type": "code",
   "execution_count": 16,
   "id": "fe0a2e05",
   "metadata": {},
   "outputs": [
    {
     "data": {
      "text/plain": [
       "<Axes: ylabel='Density'>"
      ]
     },
     "execution_count": 16,
     "metadata": {},
     "output_type": "execute_result"
    },
    {
     "data": {
      "image/png": "[encoded data removed]",
      "text/plain": [
       "<Figure size 640x480 with 1 Axes>"
      ]
     },
     "metadata": {},
     "output_type": "display_data"
    }
   ],
   "source": [
    "sns.distplot(mean_of_samples, kde = True, color = \"red\")"
   ]
  },
  {
   "cell_type": "code",
   "execution_count": 17,
   "id": "8b97398f",
   "metadata": {},
   "outputs": [
    {
     "data": {
      "text/plain": [
       "array([-8.32969684e-01,  1.24074532e+00, -1.71936486e+00,  1.44625990e+00,\n",
       "       -3.13552662e-01, -1.65955295e+00, -1.70360275e+00, -1.83553265e+00,\n",
       "        2.78798311e-01,  3.75547146e-01,  1.22855310e+00, -1.22299093e-01,\n",
       "       -2.09800677e-01, -6.93962283e-02,  9.84122127e-01,  1.74661139e-01,\n",
       "       -2.44397930e+00,  1.29061114e+00,  1.25794645e+00, -4.35021921e-01,\n",
       "        1.43014503e+00, -1.49558792e-01,  1.28004845e+00, -3.36662450e-01,\n",
       "       -1.36396101e-01,  8.64431553e-01,  5.07826293e-01,  3.74721834e-01,\n",
       "        1.82360276e+00, -1.03923712e-02, -1.05793149e+00, -5.01432162e-01,\n",
       "       -5.39170268e-01,  4.04226648e-01, -1.10718198e+00, -5.51300748e-01,\n",
       "       -3.37048071e-01, -1.33314481e+00,  3.85502329e-01, -3.67955041e-01,\n",
       "        7.58312975e-01, -1.47466717e+00, -2.22289868e-01,  2.46663907e+00,\n",
       "        5.91610386e-02,  5.11244599e-01,  6.38727589e-01, -6.18334174e-02,\n",
       "        3.62268880e-01, -3.01841019e-01,  9.39203490e-01, -3.36827318e-01,\n",
       "       -1.91252897e-01, -1.58853502e+00, -2.32447528e-01, -1.11285707e+00,\n",
       "       -1.96119478e+00,  6.75503413e-01, -1.84548945e+00,  7.28290921e-01,\n",
       "       -1.01029508e+00,  8.33553850e-02,  1.76679920e+00,  1.24974398e-01,\n",
       "        2.46476769e-01, -4.35339980e-01,  5.09207894e-01, -6.25392979e-01,\n",
       "        6.24735608e-01,  5.68337072e-01,  9.58704725e-01, -1.17188394e-04,\n",
       "       -1.30723675e+00, -1.02612173e+00, -3.31036604e-01,  1.99376532e-01,\n",
       "        7.30056491e-01,  5.44134661e-01,  7.27071853e-01,  8.26766761e-01,\n",
       "        2.65902273e-01,  5.52218070e-01,  1.37928297e+00,  3.14050728e-01,\n",
       "        8.28139963e-01,  1.12822664e-01,  4.73990628e-01, -4.05441451e-01,\n",
       "        1.82424446e-01, -1.21772977e-01,  6.29198303e-01,  1.61196459e-01,\n",
       "        1.53972530e+00, -7.18265687e-01, -1.33678804e+00,  8.53791374e-01,\n",
       "        1.20764079e+00,  8.05691805e-01,  2.07942361e+00, -5.34212150e-01])"
      ]
     },
     "execution_count": 17,
     "metadata": {},
     "output_type": "execute_result"
    }
   ],
   "source": [
    "#ztest\n",
    "\n",
    "population = np.random.randn(100)\n",
    "population"
   ]
  },
  {
   "cell_type": "code",
   "execution_count": 18,
   "id": "0a651b22",
   "metadata": {},
   "outputs": [
    {
     "data": {
      "text/plain": [
       "<Axes: ylabel='Density'>"
      ]
     },
     "execution_count": 18,
     "metadata": {},
     "output_type": "execute_result"
    },
    {
     "data": {
      "image/png": "[encoded data removed]",
      "text/plain": [
       "<Figure size 640x480 with 1 Axes>"
      ]
     },
     "metadata": {},
     "output_type": "display_data"
    }
   ],
   "source": [
    "sns.distplot(population)"
   ]
  },
  {
   "cell_type": "code",
   "execution_count": 19,
   "id": "4751d838",
   "metadata": {},
   "outputs": [
    {
     "data": {
      "text/plain": [
       "(np.float64(0.06828095027792054), np.float64(0.9620409959326803))"
      ]
     },
     "execution_count": 19,
     "metadata": {},
     "output_type": "execute_result"
    }
   ],
   "source": [
    "np.mean(population), np.std(population)"
   ]
  },
  {
   "cell_type": "markdown",
   "id": "ddf3b93f",
   "metadata": {},
   "source": [
    "## Hypothesis Testing"
   ]
  },
  {
   "cell_type": "code",
   "execution_count": 20,
   "id": "e0188577",
   "metadata": {},
   "outputs": [],
   "source": [
    "#for hypothesis testing\n",
    "#frame the hypothesis\n",
    "#alpha, type of test\n",
    "#test statistics or pvalue approach >> if pvalue <0.05>> we reject the null hypothesis\n",
    "#test critical\n",
    "#conclusion"
   ]
  },
  {
   "cell_type": "code",
   "execution_count": 21,
   "id": "75513ba1",
   "metadata": {},
   "outputs": [],
   "source": [
    "null_mean = 0.09 #hypothesis\n",
    "#alternate >= 0.09"
   ]
  },
  {
   "cell_type": "code",
   "execution_count": 24,
   "id": "09011e03",
   "metadata": {},
   "outputs": [
    {
     "name": "stdout",
     "output_type": "stream",
     "text": [
      "Collecting statsmodels"
     ]
    },
    {
     "name": "stderr",
     "output_type": "stream",
     "text": [
      "\n",
      "[notice] A new release of pip is available: 25.1.1 -> 25.2\n",
      "[notice] To update, run: C:\\Users\\wiryv\\AppData\\Local\\Microsoft\\WindowsApps\\PythonSoftwareFoundation.Python.3.11_qbz5n2kfra8p0\\python.exe -m pip install --upgrade pip\n"
     ]
    },
    {
     "name": "stdout",
     "output_type": "stream",
     "text": [
      "\n",
      "  Downloading statsmodels-0.14.5-cp311-cp311-win_amd64.whl.metadata (9.8 kB)\n",
      "Requirement already satisfied: numpy<3,>=1.22.3 in c:\\users\\wiryv\\appdata\\local\\packages\\pythonsoftwarefoundation.python.3.11_qbz5n2kfra8p0\\localcache\\local-packages\\python311\\site-packages (from statsmodels) (2.3.1)\n",
      "Requirement already satisfied: scipy!=1.9.2,>=1.8 in c:\\users\\wiryv\\appdata\\local\\packages\\pythonsoftwarefoundation.python.3.11_qbz5n2kfra8p0\\localcache\\local-packages\\python311\\site-packages (from statsmodels) (1.16.0)\n",
      "Requirement already satisfied: pandas!=2.1.0,>=1.4 in c:\\users\\wiryv\\appdata\\local\\packages\\pythonsoftwarefoundation.python.3.11_qbz5n2kfra8p0\\localcache\\local-packages\\python311\\site-packages (from statsmodels) (2.3.1)\n",
      "Collecting patsy>=0.5.6 (from statsmodels)\n",
      "  Downloading patsy-1.0.1-py2.py3-none-any.whl.metadata (3.3 kB)\n",
      "Requirement already satisfied: packaging>=21.3 in c:\\users\\wiryv\\appdata\\local\\packages\\pythonsoftwarefoundation.python.3.11_qbz5n2kfra8p0\\localcache\\local-packages\\python311\\site-packages (from statsmodels) (23.0)\n",
      "Requirement already satisfied: python-dateutil>=2.8.2 in c:\\users\\wiryv\\appdata\\local\\packages\\pythonsoftwarefoundation.python.3.11_qbz5n2kfra8p0\\localcache\\local-packages\\python311\\site-packages (from pandas!=2.1.0,>=1.4->statsmodels) (2.8.2)\n",
      "Requirement already satisfied: pytz>=2020.1 in c:\\users\\wiryv\\appdata\\local\\packages\\pythonsoftwarefoundation.python.3.11_qbz5n2kfra8p0\\localcache\\local-packages\\python311\\site-packages (from pandas!=2.1.0,>=1.4->statsmodels) (2022.7.1)\n",
      "Requirement already satisfied: tzdata>=2022.7 in c:\\users\\wiryv\\appdata\\local\\packages\\pythonsoftwarefoundation.python.3.11_qbz5n2kfra8p0\\localcache\\local-packages\\python311\\site-packages (from pandas!=2.1.0,>=1.4->statsmodels) (2025.2)\n",
      "Requirement already satisfied: six>=1.5 in c:\\users\\wiryv\\appdata\\local\\packages\\pythonsoftwarefoundation.python.3.11_qbz5n2kfra8p0\\localcache\\local-packages\\python311\\site-packages (from python-dateutil>=2.8.2->pandas!=2.1.0,>=1.4->statsmodels) (1.16.0)\n",
      "Downloading statsmodels-0.14.5-cp311-cp311-win_amd64.whl (9.6 MB)\n",
      "   ---------------------------------------- 0.0/9.6 MB ? eta -:--:--\n",
      "   ---------------------------------------- 0.0/9.6 MB ? eta -:--:--\n",
      "   --- ------------------------------------ 0.8/9.6 MB 6.7 MB/s eta 0:00:02\n",
      "   --------- ------------------------------ 2.4/9.6 MB 6.4 MB/s eta 0:00:02\n",
      "   --------------- ------------------------ 3.7/9.6 MB 6.4 MB/s eta 0:00:01\n",
      "   -------------------- ------------------- 5.0/9.6 MB 6.4 MB/s eta 0:00:01\n",
      "   -------------------------- ------------- 6.3/9.6 MB 6.4 MB/s eta 0:00:01\n",
      "   -------------------------------- ------- 7.9/9.6 MB 6.4 MB/s eta 0:00:01\n",
      "   -------------------------------------- - 9.2/9.6 MB 6.4 MB/s eta 0:00:01\n",
      "   ---------------------------------------- 9.6/9.6 MB 6.1 MB/s eta 0:00:00\n",
      "Downloading patsy-1.0.1-py2.py3-none-any.whl (232 kB)\n",
      "Installing collected packages: patsy, statsmodels\n",
      "\n",
      "   ---------------------------------------- 0/2 [patsy]\n",
      "   ---------------------------------------- 0/2 [patsy]\n",
      "   ---------------------------------------- 0/2 [patsy]\n",
      "   ---------------------------------------- 0/2 [patsy]\n",
      "   ---------------------------------------- 0/2 [patsy]\n",
      "   ---------------------------------------- 0/2 [patsy]\n",
      "   ---------------------------------------- 0/2 [patsy]\n",
      "   ---------------------------------------- 0/2 [patsy]\n",
      "   -------------------- ------------------- 1/2 [statsmodels]\n",
      "   -------------------- ------------------- 1/2 [statsmodels]\n",
      "   -------------------- ------------------- 1/2 [statsmodels]\n",
      "   -------------------- ------------------- 1/2 [statsmodels]\n",
      "   -------------------- ------------------- 1/2 [statsmodels]\n",
      "   -------------------- ------------------- 1/2 [statsmodels]\n",
      "   -------------------- ------------------- 1/2 [statsmodels]\n",
      "   -------------------- ------------------- 1/2 [statsmodels]\n",
      "   -------------------- ------------------- 1/2 [statsmodels]\n",
      "   -------------------- ------------------- 1/2 [statsmodels]\n",
      "   -------------------- ------------------- 1/2 [statsmodels]\n",
      "   -------------------- ------------------- 1/2 [statsmodels]\n",
      "   -------------------- ------------------- 1/2 [statsmodels]\n",
      "   -------------------- ------------------- 1/2 [statsmodels]\n",
      "   -------------------- ------------------- 1/2 [statsmodels]\n",
      "   -------------------- ------------------- 1/2 [statsmodels]\n",
      "   -------------------- ------------------- 1/2 [statsmodels]\n",
      "   -------------------- ------------------- 1/2 [statsmodels]\n",
      "   -------------------- ------------------- 1/2 [statsmodels]\n",
      "   -------------------- ------------------- 1/2 [statsmodels]\n",
      "   -------------------- ------------------- 1/2 [statsmodels]\n",
      "   -------------------- ------------------- 1/2 [statsmodels]\n",
      "   -------------------- ------------------- 1/2 [statsmodels]\n",
      "   -------------------- ------------------- 1/2 [statsmodels]\n",
      "   -------------------- ------------------- 1/2 [statsmodels]\n",
      "   -------------------- ------------------- 1/2 [statsmodels]\n",
      "   -------------------- ------------------- 1/2 [statsmodels]\n",
      "   -------------------- ------------------- 1/2 [statsmodels]\n",
      "   -------------------- ------------------- 1/2 [statsmodels]\n",
      "   -------------------- ------------------- 1/2 [statsmodels]\n",
      "   -------------------- ------------------- 1/2 [statsmodels]\n",
      "   -------------------- ------------------- 1/2 [statsmodels]\n",
      "   -------------------- ------------------- 1/2 [statsmodels]\n",
      "   -------------------- ------------------- 1/2 [statsmodels]\n",
      "   -------------------- ------------------- 1/2 [statsmodels]\n",
      "   -------------------- ------------------- 1/2 [statsmodels]\n",
      "   -------------------- ------------------- 1/2 [statsmodels]\n",
      "   -------------------- ------------------- 1/2 [statsmodels]\n",
      "   -------------------- ------------------- 1/2 [statsmodels]\n",
      "   -------------------- ------------------- 1/2 [statsmodels]\n",
      "   -------------------- ------------------- 1/2 [statsmodels]\n",
      "   -------------------- ------------------- 1/2 [statsmodels]\n",
      "   -------------------- ------------------- 1/2 [statsmodels]\n",
      "   -------------------- ------------------- 1/2 [statsmodels]\n",
      "   -------------------- ------------------- 1/2 [statsmodels]\n",
      "   -------------------- ------------------- 1/2 [statsmodels]\n",
      "   -------------------- ------------------- 1/2 [statsmodels]\n",
      "   -------------------- ------------------- 1/2 [statsmodels]\n",
      "   -------------------- ------------------- 1/2 [statsmodels]\n",
      "   -------------------- ------------------- 1/2 [statsmodels]\n",
      "   -------------------- ------------------- 1/2 [statsmodels]\n",
      "   -------------------- ------------------- 1/2 [statsmodels]\n",
      "   -------------------- ------------------- 1/2 [statsmodels]\n",
      "   -------------------- ------------------- 1/2 [statsmodels]\n",
      "   -------------------- ------------------- 1/2 [statsmodels]\n",
      "   -------------------- ------------------- 1/2 [statsmodels]\n",
      "   -------------------- ------------------- 1/2 [statsmodels]\n",
      "   -------------------- ------------------- 1/2 [statsmodels]\n",
      "   -------------------- ------------------- 1/2 [statsmodels]\n",
      "   -------------------- ------------------- 1/2 [statsmodels]\n",
      "   -------------------- ------------------- 1/2 [statsmodels]\n",
      "   -------------------- ------------------- 1/2 [statsmodels]\n",
      "   -------------------- ------------------- 1/2 [statsmodels]\n",
      "   -------------------- ------------------- 1/2 [statsmodels]\n",
      "   -------------------- ------------------- 1/2 [statsmodels]\n",
      "   -------------------- ------------------- 1/2 [statsmodels]\n",
      "   -------------------- ------------------- 1/2 [statsmodels]\n",
      "   -------------------- ------------------- 1/2 [statsmodels]\n",
      "   -------------------- ------------------- 1/2 [statsmodels]\n",
      "   -------------------- ------------------- 1/2 [statsmodels]\n",
      "   -------------------- ------------------- 1/2 [statsmodels]\n",
      "   -------------------- ------------------- 1/2 [statsmodels]\n",
      "   -------------------- ------------------- 1/2 [statsmodels]\n",
      "   -------------------- ------------------- 1/2 [statsmodels]\n",
      "   -------------------- ------------------- 1/2 [statsmodels]\n",
      "   -------------------- ------------------- 1/2 [statsmodels]\n",
      "   -------------------- ------------------- 1/2 [statsmodels]\n",
      "   -------------------- ------------------- 1/2 [statsmodels]\n",
      "   -------------------- ------------------- 1/2 [statsmodels]\n",
      "   -------------------- ------------------- 1/2 [statsmodels]\n",
      "   -------------------- ------------------- 1/2 [statsmodels]\n",
      "   -------------------- ------------------- 1/2 [statsmodels]\n",
      "   -------------------- ------------------- 1/2 [statsmodels]\n",
      "   -------------------- ------------------- 1/2 [statsmodels]\n",
      "   -------------------- ------------------- 1/2 [statsmodels]\n",
      "   -------------------- ------------------- 1/2 [statsmodels]\n",
      "   -------------------- ------------------- 1/2 [statsmodels]\n",
      "   -------------------- ------------------- 1/2 [statsmodels]\n",
      "   -------------------- ------------------- 1/2 [statsmodels]\n",
      "   -------------------- ------------------- 1/2 [statsmodels]\n",
      "   -------------------- ------------------- 1/2 [statsmodels]\n",
      "   -------------------- ------------------- 1/2 [statsmodels]\n",
      "   -------------------- ------------------- 1/2 [statsmodels]\n",
      "   -------------------- ------------------- 1/2 [statsmodels]\n",
      "   -------------------- ------------------- 1/2 [statsmodels]\n",
      "   -------------------- ------------------- 1/2 [statsmodels]\n",
      "   -------------------- ------------------- 1/2 [statsmodels]\n",
      "   -------------------- ------------------- 1/2 [statsmodels]\n",
      "   -------------------- ------------------- 1/2 [statsmodels]\n",
      "   -------------------- ------------------- 1/2 [statsmodels]\n",
      "   -------------------- ------------------- 1/2 [statsmodels]\n",
      "   -------------------- ------------------- 1/2 [statsmodels]\n",
      "   -------------------- ------------------- 1/2 [statsmodels]\n",
      "   -------------------- ------------------- 1/2 [statsmodels]\n",
      "   -------------------- ------------------- 1/2 [statsmodels]\n",
      "   -------------------- ------------------- 1/2 [statsmodels]\n",
      "   -------------------- ------------------- 1/2 [statsmodels]\n",
      "   -------------------- ------------------- 1/2 [statsmodels]\n",
      "   -------------------- ------------------- 1/2 [statsmodels]\n",
      "   -------------------- ------------------- 1/2 [statsmodels]\n",
      "   -------------------- ------------------- 1/2 [statsmodels]\n",
      "   -------------------- ------------------- 1/2 [statsmodels]\n",
      "   -------------------- ------------------- 1/2 [statsmodels]\n",
      "   -------------------- ------------------- 1/2 [statsmodels]\n",
      "   -------------------- ------------------- 1/2 [statsmodels]\n",
      "   -------------------- ------------------- 1/2 [statsmodels]\n",
      "   -------------------- ------------------- 1/2 [statsmodels]\n",
      "   -------------------- ------------------- 1/2 [statsmodels]\n",
      "   -------------------- ------------------- 1/2 [statsmodels]\n",
      "   -------------------- ------------------- 1/2 [statsmodels]\n",
      "   -------------------- ------------------- 1/2 [statsmodels]\n",
      "   -------------------- ------------------- 1/2 [statsmodels]\n",
      "   -------------------- ------------------- 1/2 [statsmodels]\n",
      "   -------------------- ------------------- 1/2 [statsmodels]\n",
      "   -------------------- ------------------- 1/2 [statsmodels]\n",
      "   -------------------- ------------------- 1/2 [statsmodels]\n",
      "   -------------------- ------------------- 1/2 [statsmodels]\n",
      "   -------------------- ------------------- 1/2 [statsmodels]\n",
      "   -------------------- ------------------- 1/2 [statsmodels]\n",
      "   -------------------- ------------------- 1/2 [statsmodels]\n",
      "   -------------------- ------------------- 1/2 [statsmodels]\n",
      "   -------------------- ------------------- 1/2 [statsmodels]\n",
      "   -------------------- ------------------- 1/2 [statsmodels]\n",
      "   -------------------- ------------------- 1/2 [statsmodels]\n",
      "   -------------------- ------------------- 1/2 [statsmodels]\n",
      "   -------------------- ------------------- 1/2 [statsmodels]\n",
      "   -------------------- ------------------- 1/2 [statsmodels]\n",
      "   -------------------- ------------------- 1/2 [statsmodels]\n",
      "   -------------------- ------------------- 1/2 [statsmodels]\n",
      "   -------------------- ------------------- 1/2 [statsmodels]\n",
      "   -------------------- ------------------- 1/2 [statsmodels]\n",
      "   -------------------- ------------------- 1/2 [statsmodels]\n",
      "   -------------------- ------------------- 1/2 [statsmodels]\n",
      "   -------------------- ------------------- 1/2 [statsmodels]\n",
      "   -------------------- ------------------- 1/2 [statsmodels]\n",
      "   -------------------- ------------------- 1/2 [statsmodels]\n",
      "   -------------------- ------------------- 1/2 [statsmodels]\n",
      "   -------------------- ------------------- 1/2 [statsmodels]\n",
      "   -------------------- ------------------- 1/2 [statsmodels]\n",
      "   -------------------- ------------------- 1/2 [statsmodels]\n",
      "   -------------------- ------------------- 1/2 [statsmodels]\n",
      "   -------------------- ------------------- 1/2 [statsmodels]\n",
      "   -------------------- ------------------- 1/2 [statsmodels]\n",
      "   -------------------- ------------------- 1/2 [statsmodels]\n",
      "   -------------------- ------------------- 1/2 [statsmodels]\n",
      "   -------------------- ------------------- 1/2 [statsmodels]\n",
      "   -------------------- ------------------- 1/2 [statsmodels]\n",
      "   -------------------- ------------------- 1/2 [statsmodels]\n",
      "   -------------------- ------------------- 1/2 [statsmodels]\n",
      "   -------------------- ------------------- 1/2 [statsmodels]\n",
      "   -------------------- ------------------- 1/2 [statsmodels]\n",
      "   -------------------- ------------------- 1/2 [statsmodels]\n",
      "   -------------------- ------------------- 1/2 [statsmodels]\n",
      "   -------------------- ------------------- 1/2 [statsmodels]\n",
      "   -------------------- ------------------- 1/2 [statsmodels]\n",
      "   -------------------- ------------------- 1/2 [statsmodels]\n",
      "   -------------------- ------------------- 1/2 [statsmodels]\n",
      "   -------------------- ------------------- 1/2 [statsmodels]\n",
      "   -------------------- ------------------- 1/2 [statsmodels]\n",
      "   -------------------- ------------------- 1/2 [statsmodels]\n",
      "   -------------------- ------------------- 1/2 [statsmodels]\n",
      "   -------------------- ------------------- 1/2 [statsmodels]\n",
      "   -------------------- ------------------- 1/2 [statsmodels]\n",
      "   -------------------- ------------------- 1/2 [statsmodels]\n",
      "   -------------------- ------------------- 1/2 [statsmodels]\n",
      "   -------------------- ------------------- 1/2 [statsmodels]\n",
      "   -------------------- ------------------- 1/2 [statsmodels]\n",
      "   -------------------- ------------------- 1/2 [statsmodels]\n",
      "   -------------------- ------------------- 1/2 [statsmodels]\n",
      "   -------------------- ------------------- 1/2 [statsmodels]\n",
      "   -------------------- ------------------- 1/2 [statsmodels]\n",
      "   -------------------- ------------------- 1/2 [statsmodels]\n",
      "   -------------------- ------------------- 1/2 [statsmodels]\n",
      "   -------------------- ------------------- 1/2 [statsmodels]\n",
      "   -------------------- ------------------- 1/2 [statsmodels]\n",
      "   -------------------- ------------------- 1/2 [statsmodels]\n",
      "   -------------------- ------------------- 1/2 [statsmodels]\n",
      "   -------------------- ------------------- 1/2 [statsmodels]\n",
      "   -------------------- ------------------- 1/2 [statsmodels]\n",
      "   -------------------- ------------------- 1/2 [statsmodels]\n",
      "   -------------------- ------------------- 1/2 [statsmodels]\n",
      "   -------------------- ------------------- 1/2 [statsmodels]\n",
      "   -------------------- ------------------- 1/2 [statsmodels]\n",
      "   -------------------- ------------------- 1/2 [statsmodels]\n",
      "   -------------------- ------------------- 1/2 [statsmodels]\n",
      "   -------------------- ------------------- 1/2 [statsmodels]\n",
      "   -------------------- ------------------- 1/2 [statsmodels]\n",
      "   -------------------- ------------------- 1/2 [statsmodels]\n",
      "   -------------------- ------------------- 1/2 [statsmodels]\n",
      "   -------------------- ------------------- 1/2 [statsmodels]\n",
      "   -------------------- ------------------- 1/2 [statsmodels]\n",
      "   -------------------- ------------------- 1/2 [statsmodels]\n",
      "   -------------------- ------------------- 1/2 [statsmodels]\n",
      "   -------------------- ------------------- 1/2 [statsmodels]\n",
      "   -------------------- ------------------- 1/2 [statsmodels]\n",
      "   -------------------- ------------------- 1/2 [statsmodels]\n",
      "   -------------------- ------------------- 1/2 [statsmodels]\n",
      "   -------------------- ------------------- 1/2 [statsmodels]\n",
      "   -------------------- ------------------- 1/2 [statsmodels]\n",
      "   -------------------- ------------------- 1/2 [statsmodels]\n",
      "   -------------------- ------------------- 1/2 [statsmodels]\n",
      "   -------------------- ------------------- 1/2 [statsmodels]\n",
      "   -------------------- ------------------- 1/2 [statsmodels]\n",
      "   -------------------- ------------------- 1/2 [statsmodels]\n",
      "   -------------------- ------------------- 1/2 [statsmodels]\n",
      "   -------------------- ------------------- 1/2 [statsmodels]\n",
      "   -------------------- ------------------- 1/2 [statsmodels]\n",
      "   -------------------- ------------------- 1/2 [statsmodels]\n",
      "   -------------------- ------------------- 1/2 [statsmodels]\n",
      "   -------------------- ------------------- 1/2 [statsmodels]\n",
      "   -------------------- ------------------- 1/2 [statsmodels]\n",
      "   -------------------- ------------------- 1/2 [statsmodels]\n",
      "   -------------------- ------------------- 1/2 [statsmodels]\n",
      "   -------------------- ------------------- 1/2 [statsmodels]\n",
      "   -------------------- ------------------- 1/2 [statsmodels]\n",
      "   -------------------- ------------------- 1/2 [statsmodels]\n",
      "   -------------------- ------------------- 1/2 [statsmodels]\n",
      "   -------------------- ------------------- 1/2 [statsmodels]\n",
      "   -------------------- ------------------- 1/2 [statsmodels]\n",
      "   -------------------- ------------------- 1/2 [statsmodels]\n",
      "   -------------------- ------------------- 1/2 [statsmodels]\n",
      "   -------------------- ------------------- 1/2 [statsmodels]\n",
      "   -------------------- ------------------- 1/2 [statsmodels]\n",
      "   -------------------- ------------------- 1/2 [statsmodels]\n",
      "   -------------------- ------------------- 1/2 [statsmodels]\n",
      "   -------------------- ------------------- 1/2 [statsmodels]\n",
      "   -------------------- ------------------- 1/2 [statsmodels]\n",
      "   -------------------- ------------------- 1/2 [statsmodels]\n",
      "   ---------------------------------------- 2/2 [statsmodels]\n",
      "\n",
      "Successfully installed patsy-1.0.1 statsmodels-0.14.5\n"
     ]
    }
   ],
   "source": [
    "!pip install statsmodels"
   ]
  },
  {
   "cell_type": "code",
   "execution_count": 25,
   "id": "1d65254f",
   "metadata": {},
   "outputs": [],
   "source": [
    "from statsmodels.stats.weightstats import ztest\n",
    "zscore, pvalue = ztest(population, value = null_mean, alternative = 'larger')"
   ]
  },
  {
   "cell_type": "code",
   "execution_count": 26,
   "id": "ed2d268b",
   "metadata": {},
   "outputs": [
    {
     "data": {
      "text/plain": [
       "np.float64(-0.22462848995756596)"
      ]
     },
     "execution_count": 26,
     "metadata": {},
     "output_type": "execute_result"
    }
   ],
   "source": [
    "zscore"
   ]
  },
  {
   "cell_type": "code",
   "execution_count": 27,
   "id": "349c9b86",
   "metadata": {},
   "outputs": [
    {
     "data": {
      "text/plain": [
       "np.float64(0.5888658502782825)"
      ]
     },
     "execution_count": 27,
     "metadata": {},
     "output_type": "execute_result"
    }
   ],
   "source": [
    "pvalue"
   ]
  },
  {
   "cell_type": "code",
   "execution_count": 28,
   "id": "a9281164",
   "metadata": {},
   "outputs": [
    {
     "name": "stdout",
     "output_type": "stream",
     "text": [
      "fail to reject null hypothesis\n"
     ]
    }
   ],
   "source": [
    "if pvalue <= 0.05:\n",
    "    print(\"reject the null hypothesis\")\n",
    "else:\n",
    "    print(\"fail to reject null hypothesis\")"
   ]
  },
  {
   "cell_type": "markdown",
   "id": "b70c7a77",
   "metadata": {},
   "source": [
    "## Z Critical Approach"
   ]
  },
  {
   "cell_type": "code",
   "execution_count": 29,
   "id": "3e7fff60",
   "metadata": {},
   "outputs": [],
   "source": [
    "#z critical approach\n",
    "\n",
    "#A school calculated iq scores of 50 students, the average iq  turned out to be 100. the mean of population iq is 90 \n",
    "#and the std deviation 16. \\\n",
    "#state whether the claim by school \n",
    "#that IQ increases if student study more than avg of school with 5% of significance level\n",
    "\n",
    "#null hypothesis : mean_iq = 90\n",
    "#Alternate: mean_iq > 90"
   ]
  },
  {
   "cell_type": "code",
   "execution_count": 30,
   "id": "9c762293",
   "metadata": {},
   "outputs": [],
   "source": [
    "import scipy.stats as stats #zcritical approach\n",
    "\n",
    "sample_mean = 100\n",
    "population_mean = 90\n",
    "population_std = 16\n",
    "sample_size = 60\n",
    "alpha = 0.05"
   ]
  },
  {
   "cell_type": "code",
   "execution_count": 31,
   "id": "9327800d",
   "metadata": {},
   "outputs": [
    {
     "name": "stdout",
     "output_type": "stream",
     "text": [
      "The zscore is 4.419417382415922\n"
     ]
    }
   ],
   "source": [
    "zscore = (sample_mean - population_mean) / (population_std/np.sqrt(50))\n",
    "print(\"The zscore is\", zscore)"
   ]
  },
  {
   "cell_type": "code",
   "execution_count": 32,
   "id": "7307c530",
   "metadata": {},
   "outputs": [],
   "source": [
    "#for zcritical scipy.stats\n",
    "#norm>>normal distibution\n",
    "#ppf >> percent point function >>inverse of cumulative distribution function(cdf)\n",
    "zcritical = stats.norm.ppf(1-alpha)"
   ]
  },
  {
   "cell_type": "code",
   "execution_count": 33,
   "id": "bc772281",
   "metadata": {},
   "outputs": [
    {
     "data": {
      "text/plain": [
       "np.float64(1.6448536269514722)"
      ]
     },
     "execution_count": 33,
     "metadata": {},
     "output_type": "execute_result"
    }
   ],
   "source": [
    "zcritical"
   ]
  },
  {
   "cell_type": "code",
   "execution_count": 34,
   "id": "57709a1f",
   "metadata": {},
   "outputs": [
    {
     "name": "stdout",
     "output_type": "stream",
     "text": [
      "Reject the null hypothesis\n"
     ]
    }
   ],
   "source": [
    "if zscore > zcritical:\n",
    "    print(\"Reject the null hypothesis\")\n",
    "else:\n",
    "    print(\"fail to reject the null hypothesis\")"
   ]
  },
  {
   "cell_type": "code",
   "execution_count": 35,
   "id": "77482670",
   "metadata": {},
   "outputs": [
    {
     "name": "stdout",
     "output_type": "stream",
     "text": [
      "reject the null hypothesis\n"
     ]
    }
   ],
   "source": [
    "#using bscipy.stats pvalue approach\n",
    "p_value = 1-stats.norm.cdf(zscore)\n",
    "\n",
    "if p_value <= 0.05:\n",
    "    print(\"reject the null hypothesis\")\n",
    "else:\n",
    "    print(\"fail to reject null hypothesis\")"
   ]
  },
  {
   "cell_type": "markdown",
   "id": "3306f5f2",
   "metadata": {},
   "source": [
    "## T Test"
   ]
  },
  {
   "cell_type": "code",
   "execution_count": 36,
   "id": "7ec29c69",
   "metadata": {},
   "outputs": [],
   "source": [
    "#T test when sample size < 30 or sigma or population is not given\n",
    "#one sample t-test (with respect to one independent sample)\n",
    "#two sample t-test (with respect to two independent sample)\n",
    "#paired t-test (two sample from the population at different time interval)"
   ]
  },
  {
   "cell_type": "code",
   "execution_count": 37,
   "id": "9a034d3d",
   "metadata": {},
   "outputs": [],
   "source": [
    "#one sample t-test\n",
    "population = np.random.randint(10, 50, 50)"
   ]
  },
  {
   "cell_type": "code",
   "execution_count": 38,
   "id": "156343b6",
   "metadata": {},
   "outputs": [
    {
     "data": {
      "text/plain": [
       "array([45, 10, 12, 27, 45, 39, 15, 13, 42, 28, 45, 42, 23, 14, 44, 17, 20,\n",
       "       10, 20, 32, 32, 17, 25, 11, 12, 20, 25, 31, 33, 40, 26, 11, 45, 20,\n",
       "       36, 46, 16, 37, 27, 42, 30, 33, 48, 28, 11, 24, 44, 32, 17, 11],\n",
       "      dtype=int32)"
      ]
     },
     "execution_count": 38,
     "metadata": {},
     "output_type": "execute_result"
    }
   ],
   "source": [
    "population"
   ]
  },
  {
   "cell_type": "code",
   "execution_count": 39,
   "id": "e6e81df6",
   "metadata": {},
   "outputs": [
    {
     "data": {
      "text/plain": [
       "array([26, 32, 44, 45, 12, 13, 17, 33, 28, 10, 10, 40, 28, 12, 28, 36, 33,\n",
       "       44, 11, 11], dtype=int32)"
      ]
     },
     "execution_count": 39,
     "metadata": {},
     "output_type": "execute_result"
    }
   ],
   "source": [
    "sample = np.random.choice(population, 20)\n",
    "sample"
   ]
  },
  {
   "cell_type": "code",
   "execution_count": 40,
   "id": "44465d44",
   "metadata": {},
   "outputs": [
    {
     "data": {
      "text/plain": [
       "np.float64(25.65)"
      ]
     },
     "execution_count": 40,
     "metadata": {},
     "output_type": "execute_result"
    }
   ],
   "source": [
    "np.mean(sample)"
   ]
  },
  {
   "cell_type": "code",
   "execution_count": 41,
   "id": "16b8452e",
   "metadata": {},
   "outputs": [
    {
     "data": {
      "text/plain": [
       "TtestResult(statistic=np.float64(0.22933680708336485), pvalue=np.float64(0.8210578060513971), df=np.int64(19))"
      ]
     },
     "execution_count": 41,
     "metadata": {},
     "output_type": "execute_result"
    }
   ],
   "source": [
    "#for t test scipy.stats\n",
    "null_value = 25 #the mean of population is 25\n",
    "stats.ttest_1samp(sample, null_value)"
   ]
  },
  {
   "cell_type": "code",
   "execution_count": 42,
   "id": "dcf37efe",
   "metadata": {},
   "outputs": [
    {
     "name": "stdout",
     "output_type": "stream",
     "text": [
      "fail to reject null hypothesis\n"
     ]
    }
   ],
   "source": [
    "p_value = 0.19\n",
    "if p_value <= 0.05:\n",
    "    print(\"reject the null hypothesis\")\n",
    "else:\n",
    "    print(\"fail to reject null hypothesis\")"
   ]
  },
  {
   "cell_type": "code",
   "execution_count": 43,
   "id": "1311b709",
   "metadata": {},
   "outputs": [
    {
     "data": {
      "text/plain": [
       "array([27, 26, 10, 30, 11, 32, 20, 37, 45, 45, 33, 33, 42, 44, 11, 28, 20,\n",
       "       46, 33, 17], dtype=int32)"
      ]
     },
     "execution_count": 43,
     "metadata": {},
     "output_type": "execute_result"
    }
   ],
   "source": [
    "#two sample t-test\n",
    "virat_kohli_score = np.random.choice(population, 20)\n",
    "virat_kohli_score"
   ]
  },
  {
   "cell_type": "code",
   "execution_count": 44,
   "id": "dcf19a4c",
   "metadata": {},
   "outputs": [],
   "source": [
    "rohit_sharma_score = [13, 25, 48, 28, 19, 12, 13, 18, 98, 40, 18, 23, 34, 33, 45, 58, 46, 27, 50, 49]"
   ]
  },
  {
   "cell_type": "code",
   "execution_count": 45,
   "id": "46906eed",
   "metadata": {},
   "outputs": [
    {
     "data": {
      "text/plain": [
       "(np.float64(34.85), np.float64(29.5))"
      ]
     },
     "execution_count": 45,
     "metadata": {},
     "output_type": "execute_result"
    }
   ],
   "source": [
    "np.mean(rohit_sharma_score), np.mean(virat_kohli_score)"
   ]
  },
  {
   "cell_type": "code",
   "execution_count": 46,
   "id": "488e66fc",
   "metadata": {},
   "outputs": [
    {
     "data": {
      "text/plain": [
       "TtestResult(statistic=np.float64(-1.0097485466822615), pvalue=np.float64(0.31900245009549316), df=np.float64(38.0))"
      ]
     },
     "execution_count": 46,
     "metadata": {},
     "output_type": "execute_result"
    }
   ],
   "source": [
    "stats.ttest_ind(virat_kohli_score, rohit_sharma_score)"
   ]
  },
  {
   "cell_type": "code",
   "execution_count": 47,
   "id": "22567d83",
   "metadata": {},
   "outputs": [
    {
     "name": "stdout",
     "output_type": "stream",
     "text": [
      "fail to reject null hypothesis\n"
     ]
    }
   ],
   "source": [
    "p_value = 0.329\n",
    "if p_value <= 0.05:\n",
    "    print(\"reject the null hypothesis\")\n",
    "else:\n",
    "    print(\"fail to reject null hypothesis\")"
   ]
  },
  {
   "cell_type": "markdown",
   "id": "c9ea3d69",
   "metadata": {},
   "source": [
    "## Paired T Test"
   ]
  },
  {
   "cell_type": "code",
   "execution_count": 48,
   "id": "5979b866",
   "metadata": {},
   "outputs": [],
   "source": [
    "#paired_t test test\n",
    "rohit_score_first_inning = [31, 36, 46, 24, 48, 46, 47, 47, 16, 35, 45, 37, 24, 29, 27, 42, 49, 37, 47, 46]\n",
    "rohit_score_second_inning = [31, 76, 46, 24, 48, 23, 49, 47, 37, 35, 45, 37, 74, 39, 27, 42, 49, 37, 47, 46]"
   ]
  },
  {
   "cell_type": "code",
   "execution_count": 49,
   "id": "63abefa8",
   "metadata": {},
   "outputs": [
    {
     "data": {
      "text/plain": [
       "(np.float64(37.95), np.float64(42.95))"
      ]
     },
     "execution_count": 49,
     "metadata": {},
     "output_type": "execute_result"
    }
   ],
   "source": [
    "np.mean(rohit_score_first_inning), np.mean(rohit_score_second_inning)"
   ]
  },
  {
   "cell_type": "code",
   "execution_count": 50,
   "id": "d8dcf9a5",
   "metadata": {},
   "outputs": [
    {
     "data": {
      "text/plain": [
       "TtestResult(statistic=np.float64(-1.4256648712805027), pvalue=np.float64(0.1701880684614766), df=np.int64(19))"
      ]
     },
     "execution_count": 50,
     "metadata": {},
     "output_type": "execute_result"
    }
   ],
   "source": [
    "stats.ttest_rel(rohit_score_first_inning, rohit_score_second_inning)"
   ]
  },
  {
   "cell_type": "code",
   "execution_count": 51,
   "id": "fff2d65a",
   "metadata": {},
   "outputs": [
    {
     "name": "stdout",
     "output_type": "stream",
     "text": [
      "fail to reject null hypothesis\n"
     ]
    }
   ],
   "source": [
    "p_value = 0.17\n",
    "if p_value <= 0.05:\n",
    "    print(\"reject the null hypothesis\")\n",
    "else:\n",
    "    print(\"fail to reject null hypothesis\")"
   ]
  },
  {
   "cell_type": "code",
   "execution_count": null,
   "id": "1f172abd",
   "metadata": {},
   "outputs": [],
   "source": []
  }
 ],
 "metadata": {
  "kernelspec": {
   "display_name": "Python 3",
   "language": "python",
   "name": "python3"
  },
  "language_info": {
   "codemirror_mode": {
    "name": "ipython",
    "version": 3
   },
   "file_extension": ".py",
   "mimetype": "text/x-python",
   "name": "python",
   "nbconvert_exporter": "python",
   "pygments_lexer": "ipython3",
   "version": "3.11.3"
  }
 },
 "nbformat": 4,
 "nbformat_minor": 5
}
