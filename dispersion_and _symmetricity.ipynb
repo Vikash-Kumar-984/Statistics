{
 "cells": [
  {
   "cell_type": "code",
   "execution_count": 1,
   "id": "136f7ae0",
   "metadata": {},
   "outputs": [
    {
     "data": {
      "text/plain": [
       "[2, 3, 4, 5, 8, 9, 12, 40, 41, 15]"
      ]
     },
     "execution_count": 1,
     "metadata": {},
     "output_type": "execute_result"
    }
   ],
   "source": [
    "data = [2, 3, 4, 5, 8, 9, 12, 40, 41, 15]\n",
    "data"
   ]
  },
  {
   "cell_type": "code",
   "execution_count": null,
   "id": "377cf3c8",
   "metadata": {},
   "outputs": [
    {
     "data": {
      "text/plain": [
       "39"
      ]
     },
     "execution_count": 2,
     "metadata": {},
     "output_type": "execute_result"
    }
   ],
   "source": [
    "# Measure of Dispersion/Spread\n",
    "\n",
    "#1. Range\n",
    "\n",
    "max(data) - min(data)"
   ]
  },
  {
   "cell_type": "code",
   "execution_count": 3,
   "id": "ccae5c55",
   "metadata": {},
   "outputs": [
    {
     "data": {
      "text/plain": [
       "array([ 2.  ,  4.25,  8.5 , 14.25, 41.  ])"
      ]
     },
     "execution_count": 3,
     "metadata": {},
     "output_type": "execute_result"
    }
   ],
   "source": [
    "#2. Percentile\n",
    "import numpy as np\n",
    "np.percentile(data, [0, 25, 50, 75, 100])"
   ]
  },
  {
   "cell_type": "code",
   "execution_count": 4,
   "id": "aeab9134",
   "metadata": {},
   "outputs": [
    {
     "data": {
      "text/plain": [
       "10.0"
      ]
     },
     "execution_count": 4,
     "metadata": {},
     "output_type": "execute_result"
    }
   ],
   "source": [
    "#3. IQR (Inter Quartile Range)\n",
    "14.25-4.25"
   ]
  },
  {
   "cell_type": "code",
   "execution_count": null,
   "id": "eafc12bf",
   "metadata": {},
   "outputs": [
    {
     "data": {
      "text/plain": [
       "<Axes: >"
      ]
     },
     "execution_count": 5,
     "metadata": {},
     "output_type": "execute_result"
    },
    {
     "data": {
      "image/png": "[encoded data removed]",
      "text/plain": [
       "<Figure size 640x480 with 1 Axes>"
      ]
     },
     "metadata": {},
     "output_type": "display_data"
    }
   ],
   "source": [
    "#4. Box-Plot\n",
    "import seaborn as sns\n",
    "sns.boxplot(data) #upper fence = Q3+1.5*IQR , lower fence = Q1-1.5*IQR"
   ]
  },
  {
   "cell_type": "code",
   "execution_count": 6,
   "id": "04075404",
   "metadata": {},
   "outputs": [
    {
     "data": {
      "text/plain": [
       "191.69000000000003"
      ]
     },
     "execution_count": 6,
     "metadata": {},
     "output_type": "execute_result"
    }
   ],
   "source": [
    "#5. Variance\n",
    "\n",
    "np.var(data)"
   ]
  },
  {
   "cell_type": "code",
   "execution_count": 7,
   "id": "a2d09038",
   "metadata": {},
   "outputs": [
    {
     "data": {
      "text/plain": [
       "13.8452157801892"
      ]
     },
     "execution_count": 7,
     "metadata": {},
     "output_type": "execute_result"
    }
   ],
   "source": [
    "#6. Standard deviation\n",
    "np.std(data)"
   ]
  },
  {
   "cell_type": "code",
   "execution_count": null,
   "id": "82ec2a8d",
   "metadata": {},
   "outputs": [
    {
     "data": {
      "text/plain": [
       "212.98888888888888"
      ]
     },
     "execution_count": 8,
     "metadata": {},
     "output_type": "execute_result"
    }
   ],
   "source": [
    "import statistics\n",
    "statistics.variance(data) #sample variance: denominator is n-1"
   ]
  },
  {
   "cell_type": "code",
   "execution_count": null,
   "id": "1fd32f5e",
   "metadata": {},
   "outputs": [
    {
     "data": {
      "text/plain": [
       "191.69"
      ]
     },
     "execution_count": 9,
     "metadata": {},
     "output_type": "execute_result"
    }
   ],
   "source": [
    "statistics.pvariance(data) #population variance: denominator is n"
   ]
  },
  {
   "cell_type": "code",
   "execution_count": null,
   "id": "0a8e6e47",
   "metadata": {},
   "outputs": [
    {
     "data": {
      "text/plain": [
       "1.2320350579023576"
      ]
     },
     "execution_count": 11,
     "metadata": {},
     "output_type": "execute_result"
    }
   ],
   "source": [
    "#Measure of symmetricity, skewness\n",
    "#Skewnewss\n",
    "\n",
    "from scipy.stats import skew\n",
    "skew(data)"
   ]
  },
  {
   "cell_type": "code",
   "execution_count": 12,
   "id": "6b129409",
   "metadata": {},
   "outputs": [
    {
     "data": {
      "text/plain": [
       "0.5844726562500003"
      ]
     },
     "execution_count": 12,
     "metadata": {},
     "output_type": "execute_result"
    }
   ],
   "source": [
    "d = [2,3,5,7,11]\n",
    "skew(d)"
   ]
  },
  {
   "cell_type": "code",
   "execution_count": null,
   "id": "be6f7e39",
   "metadata": {},
   "outputs": [],
   "source": []
  }
 ],
 "metadata": {
  "kernelspec": {
   "display_name": "base",
   "language": "python",
   "name": "python3"
  },
  "language_info": {
   "codemirror_mode": {
    "name": "ipython",
    "version": 3
   },
   "file_extension": ".py",
   "mimetype": "text/x-python",
   "name": "python",
   "nbconvert_exporter": "python",
   "pygments_lexer": "ipython3",
   "version": "3.12.7"
  }
 },
 "nbformat": 4,
 "nbformat_minor": 5
}
