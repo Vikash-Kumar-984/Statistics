{
 "cells": [
  {
   "cell_type": "markdown",
   "id": "0d15de5c",
   "metadata": {},
   "source": [
    "A coin is tossed12 times. What is the probability of getting exactly 7 heads?"
   ]
  },
  {
   "cell_type": "code",
   "execution_count": 1,
   "id": "da17742f",
   "metadata": {},
   "outputs": [
    {
     "name": "stdout",
     "output_type": "stream",
     "text": [
      "The probability of getting exactly 7 heads is: 0.1934\n"
     ]
    }
   ],
   "source": [
    "from scipy.stats import binom\n",
    "\n",
    "# Parameters\n",
    "n = 12  # Number of coin tosses\n",
    "k = 7   # Number of heads (successes)\n",
    "p = 0.5 # Probability of getting heads in each toss\n",
    "\n",
    "# Probability of exactly 7 heads\n",
    "prob_7_heads = binom.pmf(k, n, p)\n",
    "print(f\"The probability of getting exactly 7 heads is: {prob_7_heads:.4f}\")"
   ]
  },
  {
   "cell_type": "markdown",
   "id": "130b16ae",
   "metadata": {},
   "source": [
    "The probability that a person can achieve a target is 3/4. The count of tries is 5. What is the probability that he will attain the target at least thrice?"
   ]
  },
  {
   "cell_type": "code",
   "execution_count": 2,
   "id": "dd99a12d",
   "metadata": {},
   "outputs": [
    {
     "name": "stdout",
     "output_type": "stream",
     "text": [
      "The probability of achieving the target at least 3 times is: 0.8965\n"
     ]
    }
   ],
   "source": [
    "from scipy.stats import binom\n",
    "\n",
    "# Parameters\n",
    "n = 5      # Number of tries\n",
    "p = 3/4    # Probability of success\n",
    "\n",
    "# Probability of attaining the target at least 3 times (k = 3, 4, or 5)\n",
    "prob_at_least_3 = binom.pmf(3, n, p) + binom.pmf(4, n, p) + binom.pmf(5, n, p)\n",
    "\n",
    "# Print the result\n",
    "print(f\"The probability of achieving the target at least 3 times is: {prob_at_least_3:.4f}\")"
   ]
  },
  {
   "cell_type": "markdown",
   "id": "8dd6458f",
   "metadata": {},
   "source": [
    "As only 3 students came to attend the class today, find the probability for exactly 4 students to attend the classes tomorrow."
   ]
  },
  {
   "cell_type": "code",
   "execution_count": 4,
   "id": "45d46dbd",
   "metadata": {},
   "outputs": [
    {
     "name": "stdout",
     "output_type": "stream",
     "text": [
      "The probability of exactly 4 students attending the class tomorrow is: 0.1680\n"
     ]
    }
   ],
   "source": [
    "from scipy.stats import poisson\n",
    "\n",
    "# Parameters\n",
    "lambda_ = 3  # Average number of students (based on today's attendance)\n",
    "k = 4        # We are interested in the probability of exactly 4 students attending\n",
    "\n",
    "# Calculate the Poisson probability for k = 4\n",
    "prob_4_students = poisson.pmf(k, lambda_)\n",
    "\n",
    "# Print the result\n",
    "print(f\"The probability of exactly 4 students attending the class tomorrow is: {prob_4_students:.4f}\")"
   ]
  },
  {
   "cell_type": "markdown",
   "id": "dd0b98b7",
   "metadata": {},
   "source": [
    " A man can send an email on average 2 emails per hour. What is the probability that the man sends no email in a given hour?"
   ]
  },
  {
   "cell_type": "code",
   "execution_count": 5,
   "id": "36ded998",
   "metadata": {},
   "outputs": [
    {
     "name": "stdout",
     "output_type": "stream",
     "text": [
      "The probability that no email is sent in a given hour is: 0.1353\n"
     ]
    }
   ],
   "source": [
    "from scipy.stats import poisson\n",
    "\n",
    "# Parameters\n",
    "lambda_ = 2  # Average number of emails sent per hour\n",
    "k = 0        # We want the probability of sending no emails\n",
    "\n",
    "# Calculate the Poisson probability for k = 0\n",
    "prob_no_email = poisson.pmf(k, lambda_)\n",
    "\n",
    "# Print the result\n",
    "print(f\"The probability that no email is sent in a given hour is: {prob_no_email:.4f}\")\n"
   ]
  },
  {
   "cell_type": "code",
   "execution_count": null,
   "id": "e3d3a57c",
   "metadata": {},
   "outputs": [],
   "source": []
  }
 ],
 "metadata": {
  "kernelspec": {
   "display_name": "Python 3",
   "language": "python",
   "name": "python3"
  },
  "language_info": {
   "codemirror_mode": {
    "name": "ipython",
    "version": 3
   },
   "file_extension": ".py",
   "mimetype": "text/x-python",
   "name": "python",
   "nbconvert_exporter": "python",
   "pygments_lexer": "ipython3",
   "version": "3.13.5"
  }
 },
 "nbformat": 4,
 "nbformat_minor": 5
}
